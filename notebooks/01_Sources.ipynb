{
 "cells": [
  {
   "cell_type": "markdown",
   "metadata": {},
   "source": [
    "# **PREDICTION OF MILLING MACHINE BEHAVIOR**"
   ]
  },
  {
   "cell_type": "markdown",
   "metadata": {},
   "source": [
    "Datasets elegido: https://www.kaggle.com/datasets/stephanmatzka/predictive-maintenance-dataset-ai4i-2020"
   ]
  },
  {
   "cell_type": "code",
   "execution_count": 1,
   "metadata": {},
   "outputs": [],
   "source": [
    "import pandas as pd"
   ]
  },
  {
   "cell_type": "code",
   "execution_count": 9,
   "metadata": {},
   "outputs": [],
   "source": [
    "df=pd.read_csv('../data/raw/ai4i2020.csv',index_col=0)"
   ]
  },
  {
   "cell_type": "markdown",
   "metadata": {},
   "source": [
    "## Structure of the Synthetic Dataset\n",
    "\n",
    "### **General Description**\n",
    "- **Dataset Type**: Synthetic, modeled from an existing milling machine.\n",
    "- **Dataset Size**: 10,000 data points.\n",
    "- **Structure**: Each row represents a data point with 14 features (columns).\n",
    "\n",
    "---\n",
    "\n",
    "### **Features (Columns)**\n",
    "\n",
    "1. **UID (Unique Identifier)**:\n",
    "   - *Range*: 1 to 10,000.\n",
    "   - *Description*: Unique identifier for each data point.\n",
    "\n",
    "2. **Product ID (Product Identifier)**:\n",
    "   - *Format*: Letter (L, M, H) + Serial number.\n",
    "     - **L**: Low quality (50% of products).\n",
    "     - **M**: Medium quality (30% of products).\n",
    "     - **H**: High quality (20% of products).\n",
    "   - *Description*: Identifies the quality variant of the product and its serial number.\n",
    "\n",
    "3. **Type (Product Type)**:\n",
    "   - *Values*: L, M, H.\n",
    "   - *Description*: Represents the product quality (low, medium, high).\n",
    "\n",
    "4. **Air Temperature [K]**:\n",
    "   - *Generation*: Normalized random walk process with a standard deviation of 2 K around 300 K.\n",
    "   - *Description*: Air temperature in Kelvin.\n",
    "\n",
    "5. **Process Temperature [K]**:\n",
    "   - *Generation*: Normalized random walk process with a standard deviation of 1 K, added to the air temperature plus 10 K.\n",
    "   - *Description*: Process temperature in Kelvin.\n",
    "\n",
    "6. **Rotational Speed [rpm]**:\n",
    "   - *Calculation*: Derived from a power of 2860 W, with normally distributed noise.\n",
    "   - *Description*: Rotational speed in revolutions per minute (rpm).\n",
    "\n",
    "7. **Torque [Nm]**:\n",
    "   - *Distribution*: Values normally distributed around 40 Nm with a standard deviation of 10 Nm.\n",
    "   - *Constraint*: No negative values.\n",
    "   - *Description*: Torque in Newton-meters (Nm).\n",
    "\n",
    "8. **Tool Wear [min]**:\n",
    "   - *Calculation*: Depends on product quality:\n",
    "     - **H**: Adds 5 minutes of wear.\n",
    "     - **M**: Adds 3 minutes of wear.\n",
    "     - **L**: Adds 2 minutes of wear.\n",
    "   - *Description*: Tool wear time in minutes.\n",
    "\n",
    "9. **Machine Failure**:\n",
    "   - *Values*: 0 (no failure) or 1 (failure).\n",
    "   - *Description*: Label indicating whether the machine has failed at that data point due to any of the failure modes.\n",
    "\n",
    "---\n",
    "\n",
    "### **Independent Failure Modes**\n",
    "\n",
    "1. **Tool Wear Failure (TWF)**:\n",
    "   - *Condition*: Tool wear reaches a value between 200 and 240 minutes.\n",
    "\n",
    "2. **Heat Dissipation Failure (HDF)**:\n",
    "   - *Condition*:\n",
    "     - Difference between air temperature and process temperature < 8.6 K.\n",
    "     - Rotational speed < 1380 rpm.\n",
    "\n",
    "3. **Power Failure (PWF)**:\n",
    "   - *Condition*: Power (product of torque and rotational speed in rad/s) is outside the range [3500 W, 9000 W].\n",
    "\n",
    "4. **Overstrain Failure (OSF)**:\n",
    "   - *Condition*: The product of tool wear and torque exceeds\n",
    "\n",
    "5. **Random Failures (RNF)**:\n",
    "   - *Condition*: Each process has a 0.1% chance of failing regardless of parameters."
   ]
  },
  {
   "cell_type": "markdown",
   "metadata": {},
   "source": []
  }
 ],
 "metadata": {
  "kernelspec": {
   "display_name": "Python 3",
   "language": "python",
   "name": "python3"
  },
  "language_info": {
   "codemirror_mode": {
    "name": "ipython",
    "version": 3
   },
   "file_extension": ".py",
   "mimetype": "text/x-python",
   "name": "python",
   "nbconvert_exporter": "python",
   "pygments_lexer": "ipython3",
   "version": "3.11.0"
  }
 },
 "nbformat": 4,
 "nbformat_minor": 2
}
